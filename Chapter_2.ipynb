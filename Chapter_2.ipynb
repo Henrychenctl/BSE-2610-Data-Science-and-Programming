{
 "cells": [
  {
   "cell_type": "markdown",
   "id": "dad2c26b",
   "metadata": {},
   "source": [
    "# Tutorial on Python"
   ]
  },
  {
   "cell_type": "code",
   "execution_count": 1,
   "id": "cfa76f68",
   "metadata": {},
   "outputs": [
    {
     "name": "stdout",
     "output_type": "stream",
     "text": [
      "hello world!\n"
     ]
    }
   ],
   "source": [
    "# print output on screen\n",
    "print(\"hello world!\")\n"
   ]
  },
  {
   "cell_type": "code",
   "execution_count": 2,
   "id": "86245f06",
   "metadata": {},
   "outputs": [
    {
     "name": "stdout",
     "output_type": "stream",
     "text": [
      "Help on built-in function print in module builtins:\n",
      "\n",
      "print(*args, sep=' ', end='\\n', file=None, flush=False)\n",
      "    Prints the values to a stream, or to sys.stdout by default.\n",
      "    \n",
      "    sep\n",
      "      string inserted between values, default a space.\n",
      "    end\n",
      "      string appended after the last value, default a newline.\n",
      "    file\n",
      "      a file-like object (stream); defaults to the current sys.stdout.\n",
      "    flush\n",
      "      whether to forcibly flush the stream.\n",
      "\n"
     ]
    }
   ],
   "source": [
    "help(print)"
   ]
  },
  {
   "cell_type": "code",
   "execution_count": 5,
   "id": "de28dcc1",
   "metadata": {},
   "outputs": [
    {
     "name": "stdout",
     "output_type": "stream",
     "text": [
      "Bingo!\n"
     ]
    }
   ],
   "source": [
    "#practice \"if\"\n",
    "if 5<7:\n",
    "    print(\"Bingo!\")"
   ]
  },
  {
   "cell_type": "markdown",
   "id": "0e78b7a1",
   "metadata": {},
   "source": [
    "# Data type: Numbers"
   ]
  },
  {
   "cell_type": "code",
   "execution_count": 3,
   "id": "0cd69fa9",
   "metadata": {},
   "outputs": [
    {
     "name": "stdout",
     "output_type": "stream",
     "text": [
      "17\n"
     ]
    }
   ],
   "source": [
    "a = 17\n",
    "print(a)"
   ]
  },
  {
   "cell_type": "code",
   "execution_count": 4,
   "id": "179fbd9a",
   "metadata": {},
   "outputs": [
    {
     "name": "stdout",
     "output_type": "stream",
     "text": [
      "<class 'int'>\n"
     ]
    }
   ],
   "source": [
    "print(type(a))"
   ]
  },
  {
   "cell_type": "code",
   "execution_count": 1,
   "id": "566d3507",
   "metadata": {},
   "outputs": [
    {
     "name": "stdout",
     "output_type": "stream",
     "text": [
      "7\n",
      "10\n",
      "1\n",
      "25\n",
      "2\n"
     ]
    }
   ],
   "source": [
    "#Math operator\n",
    "x=5\n",
    "y=2\n",
    "print(x+y)\n",
    "print(x*y)\n",
    "print(x%y)  #Modulus\n",
    "print(x**y) #Exponentiation\n",
    "print(x//y)  #Floor division"
   ]
  },
  {
   "cell_type": "code",
   "execution_count": 5,
   "id": "ee1f906e",
   "metadata": {},
   "outputs": [
    {
     "data": {
      "text/plain": [
       "8.5"
      ]
     },
     "execution_count": 5,
     "metadata": {},
     "output_type": "execute_result"
    }
   ],
   "source": [
    "a/2"
   ]
  },
  {
   "cell_type": "code",
   "execution_count": 6,
   "id": "e8056f8d",
   "metadata": {},
   "outputs": [
    {
     "data": {
      "text/plain": [
       "float"
      ]
     },
     "execution_count": 6,
     "metadata": {},
     "output_type": "execute_result"
    }
   ],
   "source": [
    "type(3.14)"
   ]
  },
  {
   "cell_type": "code",
   "execution_count": 7,
   "id": "1208f566",
   "metadata": {},
   "outputs": [
    {
     "data": {
      "text/plain": [
       "8681463855.993662"
      ]
     },
     "execution_count": 7,
     "metadata": {},
     "output_type": "execute_result"
    }
   ],
   "source": [
    "3.14 ** 20"
   ]
  },
  {
   "cell_type": "code",
   "execution_count": 8,
   "id": "c2f2e2ad",
   "metadata": {},
   "outputs": [
    {
     "name": "stdout",
     "output_type": "stream",
     "text": [
      "5\n"
     ]
    }
   ],
   "source": [
    "#Assignment operators\n",
    "s = 3\n",
    "s+=2\n",
    "print(s)"
   ]
  },
  {
   "cell_type": "code",
   "execution_count": 9,
   "id": "5829e161",
   "metadata": {},
   "outputs": [
    {
     "name": "stdout",
     "output_type": "stream",
     "text": [
      "6\n"
     ]
    }
   ],
   "source": [
    "#Assignment operators\n",
    "s = 3\n",
    "s*=2\n",
    "print(s)"
   ]
  },
  {
   "cell_type": "markdown",
   "id": "f04a85dd",
   "metadata": {},
   "source": [
    "## Data type: Boolean"
   ]
  },
  {
   "cell_type": "code",
   "execution_count": 10,
   "id": "9cd425d9",
   "metadata": {},
   "outputs": [
    {
     "data": {
      "text/plain": [
       "True"
      ]
     },
     "execution_count": 10,
     "metadata": {},
     "output_type": "execute_result"
    }
   ],
   "source": [
    "True"
   ]
  },
  {
   "cell_type": "code",
   "execution_count": 11,
   "id": "1333fce4",
   "metadata": {},
   "outputs": [
    {
     "data": {
      "text/plain": [
       "False"
      ]
     },
     "execution_count": 11,
     "metadata": {},
     "output_type": "execute_result"
    }
   ],
   "source": [
    "False"
   ]
  },
  {
   "cell_type": "code",
   "execution_count": 19,
   "id": "f8b9a681",
   "metadata": {},
   "outputs": [
    {
     "data": {
      "text/plain": [
       "bool"
      ]
     },
     "execution_count": 19,
     "metadata": {},
     "output_type": "execute_result"
    }
   ],
   "source": [
    "type(True)"
   ]
  },
  {
   "cell_type": "code",
   "execution_count": 13,
   "id": "c3f75463",
   "metadata": {},
   "outputs": [
    {
     "name": "stdout",
     "output_type": "stream",
     "text": [
      "<class 'bool'>\n"
     ]
    }
   ],
   "source": [
    "print(type(True))"
   ]
  },
  {
   "cell_type": "code",
   "execution_count": 14,
   "id": "6d77186c",
   "metadata": {},
   "outputs": [
    {
     "data": {
      "text/plain": [
       "False"
      ]
     },
     "execution_count": 14,
     "metadata": {},
     "output_type": "execute_result"
    }
   ],
   "source": [
    "True and False"
   ]
  },
  {
   "cell_type": "code",
   "execution_count": 15,
   "id": "ea9031b7",
   "metadata": {},
   "outputs": [
    {
     "data": {
      "text/plain": [
       "True"
      ]
     },
     "execution_count": 15,
     "metadata": {},
     "output_type": "execute_result"
    }
   ],
   "source": [
    "True or False"
   ]
  },
  {
   "cell_type": "code",
   "execution_count": 16,
   "id": "e3d88a7c",
   "metadata": {},
   "outputs": [
    {
     "data": {
      "text/plain": [
       "False"
      ]
     },
     "execution_count": 16,
     "metadata": {},
     "output_type": "execute_result"
    }
   ],
   "source": [
    "not True"
   ]
  },
  {
   "cell_type": "code",
   "execution_count": 17,
   "id": "4e18c33e",
   "metadata": {},
   "outputs": [
    {
     "data": {
      "text/plain": [
       "True"
      ]
     },
     "execution_count": 17,
     "metadata": {},
     "output_type": "execute_result"
    }
   ],
   "source": [
    "not not True"
   ]
  },
  {
   "cell_type": "markdown",
   "id": "5d2814cc",
   "metadata": {},
   "source": [
    "## Data type: String"
   ]
  },
  {
   "cell_type": "code",
   "execution_count": 18,
   "id": "db92a5c7",
   "metadata": {},
   "outputs": [
    {
     "data": {
      "text/plain": [
       "str"
      ]
     },
     "execution_count": 18,
     "metadata": {},
     "output_type": "execute_result"
    }
   ],
   "source": [
    "a = \"hello\"\n",
    "type(a)"
   ]
  },
  {
   "cell_type": "code",
   "execution_count": 20,
   "id": "dcf9b68d",
   "metadata": {},
   "outputs": [
    {
     "name": "stdout",
     "output_type": "stream",
     "text": [
      "world\n"
     ]
    }
   ],
   "source": [
    "b = 'world'\n",
    "print(b)"
   ]
  },
  {
   "cell_type": "code",
   "execution_count": 21,
   "id": "57b9dc0b",
   "metadata": {},
   "outputs": [
    {
     "name": "stdout",
     "output_type": "stream",
     "text": [
      "5\n"
     ]
    }
   ],
   "source": [
    "print(len(a))"
   ]
  },
  {
   "cell_type": "code",
   "execution_count": 22,
   "id": "57e52477",
   "metadata": {},
   "outputs": [
    {
     "name": "stdout",
     "output_type": "stream",
     "text": [
      "hello world\n"
     ]
    }
   ],
   "source": [
    "print(a + \" \" + b) "
   ]
  },
  {
   "cell_type": "code",
   "execution_count": 23,
   "id": "353c9fd0",
   "metadata": {},
   "outputs": [
    {
     "name": "stdout",
     "output_type": "stream",
     "text": [
      "helloworld\n"
     ]
    }
   ],
   "source": [
    "print(a + b)"
   ]
  },
  {
   "cell_type": "code",
   "execution_count": null,
   "id": "ee99ed2d",
   "metadata": {},
   "outputs": [],
   "source": []
  },
  {
   "cell_type": "code",
   "execution_count": 24,
   "id": "21e6a62d",
   "metadata": {},
   "outputs": [
    {
     "name": "stdout",
     "output_type": "stream",
     "text": [
      "hello 305.244776 305.2447761824\n"
     ]
    }
   ],
   "source": [
    "str = \"%s %f %.10f\" % (a, 3.14 ** 5, 3.14 ** 5) # STRING FORMATTING \n",
    "print(str)"
   ]
  },
  {
   "cell_type": "code",
   "execution_count": 25,
   "id": "4f23a255",
   "metadata": {},
   "outputs": [
    {
     "data": {
      "text/plain": [
       "'3.150'"
      ]
     },
     "execution_count": 25,
     "metadata": {},
     "output_type": "execute_result"
    }
   ],
   "source": [
    "\"%.3f\" % 3.15 #three foat string"
   ]
  },
  {
   "cell_type": "markdown",
   "id": "eee45ed2",
   "metadata": {},
   "source": [
    "## Summary"
   ]
  },
  {
   "cell_type": "code",
   "execution_count": 26,
   "id": "57fd12dd",
   "metadata": {},
   "outputs": [
    {
     "name": "stdout",
     "output_type": "stream",
     "text": [
      "6\n",
      "Polyu\n"
     ]
    }
   ],
   "source": [
    "#creating variables\n",
    "x = 6     \n",
    "y = \"Polyu\"  \n",
    "print(x)\n",
    "print(y)"
   ]
  },
  {
   "cell_type": "code",
   "execution_count": 27,
   "id": "c02f7f8b",
   "metadata": {},
   "outputs": [
    {
     "name": "stdout",
     "output_type": "stream",
     "text": [
      "Polyu\n"
     ]
    }
   ],
   "source": [
    "#change variable type and value\n",
    "x = 2\n",
    "x = \"Polyu\"\n",
    "print(x)"
   ]
  },
  {
   "cell_type": "code",
   "execution_count": 28,
   "id": "04e30116",
   "metadata": {},
   "outputs": [],
   "source": [
    "#specify the data type by casting\n",
    "x = '3'\n",
    "y = int(3)\n",
    "z = float(3)"
   ]
  },
  {
   "cell_type": "code",
   "execution_count": null,
   "id": "7d3aa0ea",
   "metadata": {},
   "outputs": [],
   "source": []
  },
  {
   "cell_type": "code",
   "execution_count": 29,
   "id": "e88c5d16",
   "metadata": {},
   "outputs": [
    {
     "name": "stdout",
     "output_type": "stream",
     "text": [
      "3\n",
      "3\n",
      "3.0\n"
     ]
    }
   ],
   "source": [
    "print(x)\n",
    "print(y)\n",
    "print(z)"
   ]
  },
  {
   "cell_type": "code",
   "execution_count": 30,
   "id": "6eff95e5",
   "metadata": {},
   "outputs": [
    {
     "data": {
      "text/plain": [
       "str"
      ]
     },
     "execution_count": 30,
     "metadata": {},
     "output_type": "execute_result"
    }
   ],
   "source": [
    "type(x)"
   ]
  },
  {
   "cell_type": "code",
   "execution_count": 31,
   "id": "ff954599",
   "metadata": {},
   "outputs": [
    {
     "data": {
      "text/plain": [
       "int"
      ]
     },
     "execution_count": 31,
     "metadata": {},
     "output_type": "execute_result"
    }
   ],
   "source": [
    "type(y)"
   ]
  },
  {
   "cell_type": "code",
   "execution_count": 32,
   "id": "70336554",
   "metadata": {},
   "outputs": [
    {
     "data": {
      "text/plain": [
       "float"
      ]
     },
     "execution_count": 32,
     "metadata": {},
     "output_type": "execute_result"
    }
   ],
   "source": [
    "type(z)"
   ]
  },
  {
   "cell_type": "code",
   "execution_count": 33,
   "id": "bfda71b5",
   "metadata": {},
   "outputs": [
    {
     "name": "stdout",
     "output_type": "stream",
     "text": [
      "<class 'str'>\n",
      "<class 'int'>\n",
      "<class 'float'>\n"
     ]
    }
   ],
   "source": [
    "#get the data type \n",
    "print(type(x))\n",
    "print(type(y))\n",
    "print(type(z))"
   ]
  },
  {
   "cell_type": "code",
   "execution_count": 34,
   "id": "ec3d8343",
   "metadata": {},
   "outputs": [
    {
     "name": "stdout",
     "output_type": "stream",
     "text": [
      "4 <class 'int'>\n"
     ]
    }
   ],
   "source": [
    "# integer\n",
    "x = 4             \n",
    "print(x, type(x))"
   ]
  },
  {
   "cell_type": "code",
   "execution_count": 35,
   "id": "5541c28c",
   "metadata": {},
   "outputs": [
    {
     "data": {
      "text/plain": [
       "'0b100'"
      ]
     },
     "execution_count": 35,
     "metadata": {},
     "output_type": "execute_result"
    }
   ],
   "source": [
    "bin(x)#二进制"
   ]
  },
  {
   "cell_type": "code",
   "execution_count": 36,
   "id": "c8b01f35",
   "metadata": {},
   "outputs": [
    {
     "data": {
      "text/plain": [
       "'0b101'"
      ]
     },
     "execution_count": 36,
     "metadata": {},
     "output_type": "execute_result"
    }
   ],
   "source": [
    "bin(5)"
   ]
  },
  {
   "cell_type": "code",
   "execution_count": 37,
   "id": "aa295c19",
   "metadata": {
    "scrolled": true
   },
   "outputs": [
    {
     "name": "stdout",
     "output_type": "stream",
     "text": [
      "True <class 'bool'>\n"
     ]
    }
   ],
   "source": [
    "# boolean (True, False)\n",
    "y = True           \n",
    "print(y, type(y))"
   ]
  },
  {
   "cell_type": "code",
   "execution_count": 38,
   "id": "7d1b7599",
   "metadata": {},
   "outputs": [
    {
     "name": "stdout",
     "output_type": "stream",
     "text": [
      "3.7 <class 'float'>\n"
     ]
    }
   ],
   "source": [
    "# floating point\n",
    "z = 3.7            \n",
    "print(z, type(z))"
   ]
  },
  {
   "cell_type": "code",
   "execution_count": 39,
   "id": "cba1a9b9",
   "metadata": {},
   "outputs": [
    {
     "name": "stdout",
     "output_type": "stream",
     "text": [
      "This is a string <class 'str'>\n"
     ]
    }
   ],
   "source": [
    "# string\n",
    "s = \"This is a string\"    \n",
    "print(s, type(s))"
   ]
  },
  {
   "cell_type": "markdown",
   "id": "8540b86a",
   "metadata": {},
   "source": [
    "## Arithmetic operations"
   ]
  },
  {
   "cell_type": "code",
   "execution_count": null,
   "id": "7827dbcf",
   "metadata": {},
   "outputs": [],
   "source": [
    "x = 4            # integer\n",
    "# addition \n",
    "x1 = x + 4       \n",
    "print(x1)\n",
    "#substraction\n",
    "y1=x-2\n",
    "print(y1)"
   ]
  },
  {
   "cell_type": "code",
   "execution_count": null,
   "id": "9f7b8fd2",
   "metadata": {},
   "outputs": [],
   "source": [
    "x += 2           # equivalent to x = x + 2\n",
    "print(x)"
   ]
  },
  {
   "cell_type": "code",
   "execution_count": null,
   "id": "80438e4a",
   "metadata": {},
   "outputs": [],
   "source": [
    "x2 = x\n",
    "x2 *= 3           # equivalent to x2 = x2 * 3\n",
    "print(x2)"
   ]
  },
  {
   "cell_type": "code",
   "execution_count": null,
   "id": "743a6b3d",
   "metadata": {},
   "outputs": [],
   "source": [
    "# product \n",
    "x2=x*3\n",
    "print(x2)"
   ]
  },
  {
   "cell_type": "code",
   "execution_count": null,
   "id": "60a5f5b1",
   "metadata": {},
   "outputs": [],
   "source": [
    "# modulo (remainder) operator\n",
    "x3 = x % 4\n",
    "print(x3)"
   ]
  },
  {
   "cell_type": "code",
   "execution_count": null,
   "id": "38d59ddc",
   "metadata": {},
   "outputs": [],
   "source": [
    "# floating point number\n",
    "y = 2.7\n",
    "# division\n",
    "y1 = y/3\n",
    "print(y1)"
   ]
  },
  {
   "cell_type": "code",
   "execution_count": null,
   "id": "b63e968f",
   "metadata": {},
   "outputs": [],
   "source": [
    "# integer division (floor function)\n",
    "y//2"
   ]
  },
  {
   "cell_type": "code",
   "execution_count": null,
   "id": "d6c1a59e",
   "metadata": {},
   "outputs": [],
   "source": [
    "# square of z \n",
    "y2 = y ** 2 \n",
    "print(y2)"
   ]
  },
  {
   "cell_type": "code",
   "execution_count": null,
   "id": "84619986",
   "metadata": {},
   "outputs": [],
   "source": [
    "# square root\n",
    "y3 = y2 ** 0.5   \n",
    "print(y3)"
   ]
  },
  {
   "cell_type": "code",
   "execution_count": null,
   "id": "2054a6dc",
   "metadata": {},
   "outputs": [],
   "source": [
    "# equivalent to square of y\n",
    "y2 = pow(y,2)\n",
    "print(y2)\n",
    "pow(y,3)"
   ]
  },
  {
   "cell_type": "code",
   "execution_count": null,
   "id": "703a85b0",
   "metadata": {},
   "outputs": [],
   "source": [
    "# rounding y to its nearest integer \n",
    "y4 = round(y)\n",
    "print(y4)"
   ]
  },
  {
   "cell_type": "code",
   "execution_count": null,
   "id": "4e4530f5",
   "metadata": {},
   "outputs": [],
   "source": [
    "#Single and double Quotes are the same\n",
    "x = \"John\"\n",
    "# is the same as\n",
    "y = 'John'"
   ]
  },
  {
   "cell_type": "code",
   "execution_count": null,
   "id": "9acc1d38",
   "metadata": {},
   "outputs": [],
   "source": [
    "print(x)"
   ]
  },
  {
   "cell_type": "code",
   "execution_count": null,
   "id": "52410344",
   "metadata": {},
   "outputs": [],
   "source": [
    "print(y)"
   ]
  },
  {
   "cell_type": "code",
   "execution_count": null,
   "id": "71562132",
   "metadata": {},
   "outputs": [],
   "source": [
    "x==y"
   ]
  },
  {
   "cell_type": "code",
   "execution_count": null,
   "id": "bbc94699",
   "metadata": {},
   "outputs": [],
   "source": [
    "#Case sensitive\n",
    "a = 4\n",
    "A = \"Sally\""
   ]
  },
  {
   "cell_type": "code",
   "execution_count": null,
   "id": "ce9efb9b",
   "metadata": {},
   "outputs": [],
   "source": [
    "#A will not overwrite a\n",
    "print(a)\n",
    "print(A)"
   ]
  },
  {
   "cell_type": "code",
   "execution_count": null,
   "id": "edfd1f3e",
   "metadata": {},
   "outputs": [],
   "source": [
    "#Assign Multiple Values\n",
    "x, y, z = \"Orange\", \"Banana\", \"Cherry\"\n",
    "print(x)\n",
    "print(y)\n",
    "print(z)"
   ]
  },
  {
   "cell_type": "code",
   "execution_count": null,
   "id": "3063f0bb",
   "metadata": {},
   "outputs": [],
   "source": [
    "#unpack a collection\n",
    "fruits = [\"apple\", \"banana\", \"cherry\"]\n",
    "x, y, z = fruits\n",
    "print(x)\n",
    "print(y)\n",
    "print(z)"
   ]
  },
  {
   "cell_type": "code",
   "execution_count": null,
   "id": "c60a560c",
   "metadata": {},
   "outputs": [],
   "source": [
    "#output can be combined\n",
    "x = \"Python is \"\n",
    "y = \"awesome\"\n",
    "z =  x + y\n",
    "print(z)"
   ]
  },
  {
   "cell_type": "code",
   "execution_count": null,
   "id": "d2f548d6",
   "metadata": {},
   "outputs": [],
   "source": [
    "#global and local variable\n",
    "x = \"awesome\"\n",
    "\n",
    "def myfunc():\n",
    "  x = \"fantastic\"\n",
    "  print(\"Python is \" + x)\n",
    "\n",
    "myfunc()\n",
    "\n",
    "print(\"Python is \" + x)"
   ]
  },
  {
   "cell_type": "markdown",
   "id": "887cd2f6",
   "metadata": {},
   "source": [
    "### Operations on String"
   ]
  },
  {
   "cell_type": "code",
   "execution_count": null,
   "id": "60fcad0d",
   "metadata": {},
   "outputs": [],
   "source": [
    "#Get the character at position 1(remember that the first character has the position 0)\n",
    "a = \"Hello, World!\"\n",
    "print(a[1])"
   ]
  },
  {
   "cell_type": "code",
   "execution_count": null,
   "id": "1dca2a79",
   "metadata": {},
   "outputs": [],
   "source": [
    "#Get the characters from position 2, and all the way to the end:\n",
    "b = \"Hello, World!\"\n",
    "print(b[2:])"
   ]
  },
  {
   "cell_type": "code",
   "execution_count": null,
   "id": "cc51234d",
   "metadata": {},
   "outputs": [],
   "source": [
    "#loop through a string\n",
    "for x in \"banana\":\n",
    "    print(x)"
   ]
  },
  {
   "cell_type": "code",
   "execution_count": null,
   "id": "d438b453",
   "metadata": {},
   "outputs": [],
   "source": [
    "#String Length\n",
    "a = \"Hello, World!\"\n",
    "print(len(a))"
   ]
  },
  {
   "cell_type": "code",
   "execution_count": null,
   "id": "8be79fe0",
   "metadata": {},
   "outputs": [],
   "source": [
    "#Check if \"free\" is present in the following text:\n",
    "txt = \"The best things in life are free!\"\n",
    "print(\"free\" in txt)"
   ]
  },
  {
   "cell_type": "code",
   "execution_count": null,
   "id": "e526f001",
   "metadata": {},
   "outputs": [],
   "source": [
    "#check not\n",
    "txt = \"The best things in life are free!\"\n",
    "print(\"expensive\" not in txt)"
   ]
  },
  {
   "cell_type": "code",
   "execution_count": null,
   "id": "b7e7917e",
   "metadata": {},
   "outputs": [],
   "source": [
    "#Upper Case\n",
    "a = \"Hello, World!\"\n",
    "a.upper()"
   ]
  },
  {
   "cell_type": "code",
   "execution_count": null,
   "id": "5a601178",
   "metadata": {},
   "outputs": [],
   "source": [
    "#lower case\n",
    "\"Hello, World!\".lower()"
   ]
  },
  {
   "cell_type": "code",
   "execution_count": null,
   "id": "5a8cabf7",
   "metadata": {},
   "outputs": [],
   "source": [
    "#replace string\n",
    "a = \"Hello, World!\"\n",
    "a.replace(\"H\", \"J\")"
   ]
  },
  {
   "cell_type": "code",
   "execution_count": null,
   "id": "289eb0bc",
   "metadata": {},
   "outputs": [],
   "source": [
    "#combine string and number\n",
    "age = 36\n",
    "txt = \"My name is John, and I am {}\"\n",
    "print(txt.format(age))\n",
    "#\"My name is John, and I am %s\" % (age)"
   ]
  },
  {
   "cell_type": "code",
   "execution_count": null,
   "id": "a60e3585",
   "metadata": {},
   "outputs": [],
   "source": [
    "quantity = 3\n",
    "itemno = 567\n",
    "price = 49.95\n",
    "myorder = \"I want {} pieces of item {} for {} dollars.\"\n",
    "print(myorder.format(quantity, itemno, price))"
   ]
  },
  {
   "cell_type": "markdown",
   "id": "e4edc106",
   "metadata": {},
   "source": [
    "## Containers"
   ]
  },
  {
   "cell_type": "code",
   "execution_count": null,
   "id": "12c7aa38",
   "metadata": {},
   "outputs": [],
   "source": [
    "#list= collection which is ordered and changeable\n",
    "x = [\"apple\", \"banana\", \"cherry\"]\n",
    "#x[1]= 2\n",
    "print(x)\n",
    "print(type(x))"
   ]
  },
  {
   "cell_type": "code",
   "execution_count": null,
   "id": "2d2cb268",
   "metadata": {},
   "outputs": [],
   "source": [
    "#tuple=collection which is ordered and unchangeable\n",
    "x = (\"apple\", \"banana\", \"cherry\")\n",
    "#x[1]= 2\n",
    "print(x)\n",
    "print(type(x))"
   ]
  },
  {
   "cell_type": "code",
   "execution_count": null,
   "id": "1d637a76",
   "metadata": {},
   "outputs": [],
   "source": [
    "#range\n",
    "x = range(6)\n",
    "print(x)\n",
    "print(type(x))"
   ]
  },
  {
   "cell_type": "code",
   "execution_count": null,
   "id": "ec762528",
   "metadata": {},
   "outputs": [],
   "source": [
    "#set=collection which is unordered and unindexed. No duplicate members\n",
    "x = {\"apple\", \"banana\", \"cherry\"}\n",
    "y = {\"apple\", \"banana\", \"cherry\", \"apple\"}\n",
    "#x.remove('apple')\n",
    "print(x)\n",
    "print(y)\n",
    "print(type(x))\n"
   ]
  },
  {
   "cell_type": "code",
   "execution_count": null,
   "id": "01d2b27b",
   "metadata": {},
   "outputs": [],
   "source": [
    "#dict=is a collection which is unordered and changeable. No duplicate members\n",
    "x = {\"name\" : \"John\", \"age\" : 36}\n",
    "print(x)\n",
    "print(type(x))"
   ]
  },
  {
   "cell_type": "code",
   "execution_count": null,
   "id": "42a519b3",
   "metadata": {},
   "outputs": [],
   "source": [
    "#frozenset\n",
    "x = frozenset({\"apple\", \"banana\", \"cherry\"})\n",
    "print(x)\n",
    "print(type(x))\n",
    "#x.remove('apple')"
   ]
  },
  {
   "cell_type": "markdown",
   "id": "12502285",
   "metadata": {},
   "source": [
    "### List"
   ]
  },
  {
   "cell_type": "code",
   "execution_count": null,
   "id": "7aa158b4",
   "metadata": {},
   "outputs": [],
   "source": [
    "#A list can contain different data types:\n",
    "list1 = [\"abc\", 34, True, 40, \"male\"]\n",
    "print(list1)"
   ]
  },
  {
   "cell_type": "code",
   "execution_count": null,
   "id": "885f0776",
   "metadata": {},
   "outputs": [],
   "source": [
    "#Access Items\n",
    "thislist = [\"apple\", \"banana\", \"cherry\"]\n",
    "print(thislist[0])#Print the second item of the list\n",
    "print(thislist[-1])#Print the last item of the list"
   ]
  },
  {
   "cell_type": "code",
   "execution_count": null,
   "id": "d776b423",
   "metadata": {},
   "outputs": [],
   "source": [
    "#Change the values \"banana\" and \"cherry\" with the values \"blackcurrant\" and \"watermelon\":\n",
    "thislist = [\"apple\", \"banana\", \"cherry\", \"orange\", \"kiwi\", \"mango\"]\n",
    "thislist[1:3] = [\"blackcurrant\", \"watermelon\"]\n",
    "print(thislist)"
   ]
  },
  {
   "cell_type": "code",
   "execution_count": null,
   "id": "b0039a80",
   "metadata": {},
   "outputs": [],
   "source": [
    "#Add items x=[] x.append\n",
    "thislist = [\"apple\", \"banana\", \"cherry\"]\n",
    "thislist.append(\"orange\")\n",
    "print(thislist)"
   ]
  },
  {
   "cell_type": "code",
   "execution_count": null,
   "id": "1631ea17",
   "metadata": {},
   "outputs": [],
   "source": [
    "#Insert Items\n",
    "thislist = [\"apple\", \"banana\", \"cherry\"]\n",
    "thislist.insert(1, \"orange\")\n",
    "print(thislist)"
   ]
  },
  {
   "cell_type": "code",
   "execution_count": null,
   "id": "54fc95ed",
   "metadata": {},
   "outputs": [],
   "source": [
    "#Remove Specified Item\n",
    "thislist = [\"apple\", \"banana\", \"cherry\"]\n",
    "thislist.remove(\"banana\")\n",
    "print(thislist)"
   ]
  },
  {
   "cell_type": "code",
   "execution_count": null,
   "id": "67721b59",
   "metadata": {},
   "outputs": [],
   "source": [
    "#Remove Specified Index\n",
    "thislist = [\"apple\", \"banana\", \"cherry\"]\n",
    "thislist.pop(1)\n",
    "print(thislist)"
   ]
  },
  {
   "cell_type": "code",
   "execution_count": null,
   "id": "f04e851d",
   "metadata": {},
   "outputs": [],
   "source": [
    "#Remove Specified last item\n",
    "thislist = [\"apple\", \"banana\", \"cherry\"]\n",
    "b = thislist.pop()\n",
    "print(thislist)\n",
    "print(b)"
   ]
  },
  {
   "cell_type": "code",
   "execution_count": null,
   "id": "6f78e491",
   "metadata": {},
   "outputs": [],
   "source": [
    "#make loop through a list\n",
    "thislist = [\"apple\", \"banana\", \"cherry\"]\n",
    "for i in range(len(thislist)):\n",
    "  print(thislist[i])"
   ]
  },
  {
   "cell_type": "code",
   "execution_count": null,
   "id": "d5926f67",
   "metadata": {},
   "outputs": [],
   "source": [
    "#Looping Using List Comprehension\n",
    "thislist = [\"apple\", \"banana\", \"cherry\"]\n",
    "[print(x) for x in thislist]\n",
    "z= [\"I like \" + x for x in thislist]\n",
    "newlist = [x for x in thislist if \"a\" in x]\n"
   ]
  },
  {
   "cell_type": "code",
   "execution_count": null,
   "id": "31300c45",
   "metadata": {},
   "outputs": [],
   "source": [
    "#looping to count the length\n",
    "thislist = [\"apple\", \"banana\", \"cherry\"]\n",
    "y=[]\n",
    "for x in thislist:\n",
    "    print(\"==========\")\n",
    "    print(x)\n",
    "    print(len(x))\n",
    "    print(y)\n",
    "    y.append(len(x))"
   ]
  },
  {
   "cell_type": "markdown",
   "id": "5deb72d9",
   "metadata": {},
   "source": [
    "### Dictionary"
   ]
  },
  {
   "cell_type": "code",
   "execution_count": null,
   "id": "cec632ea",
   "metadata": {},
   "outputs": [],
   "source": [
    "thisdict = {\n",
    "  \"brand\": \"Apple\",\n",
    "  \"model\": \"Iphone13\",\n",
    "}\n",
    "print(thisdict)"
   ]
  },
  {
   "cell_type": "code",
   "execution_count": null,
   "id": "105fab32",
   "metadata": {},
   "outputs": [],
   "source": [
    "#access the value\n",
    "x = thisdict[\"model\"] \n",
    "print(x)"
   ]
  },
  {
   "cell_type": "code",
   "execution_count": null,
   "id": "63910c37",
   "metadata": {},
   "outputs": [],
   "source": [
    "x = thisdict.get(\"model\")\n",
    "print(x)"
   ]
  },
  {
   "cell_type": "code",
   "execution_count": null,
   "id": "27d5c98f",
   "metadata": {},
   "outputs": [],
   "source": [
    "#  return a list of all the keys in the dictionary.\n",
    "x = thisdict.keys()\n",
    "print(x)"
   ]
  },
  {
   "cell_type": "code",
   "execution_count": null,
   "id": "f8d9d884",
   "metadata": {},
   "outputs": [],
   "source": [
    "# \"year\" of the iphone by using the update() method\n",
    "thisdict.update({\"year\": 2021}) \n",
    "print(thisdict)"
   ]
  },
  {
   "cell_type": "code",
   "execution_count": null,
   "id": "132262af",
   "metadata": {},
   "outputs": [],
   "source": [
    "#add an item\n",
    "thisdict[\"color\"] = \"red\" \n",
    "print(thisdict)"
   ]
  },
  {
   "cell_type": "code",
   "execution_count": null,
   "id": "49300a2a",
   "metadata": {},
   "outputs": [],
   "source": [
    "#remove an item\n",
    "thisdict.pop(\"model\")\n",
    "print(thisdict)"
   ]
  },
  {
   "cell_type": "code",
   "execution_count": null,
   "id": "49124a4e",
   "metadata": {},
   "outputs": [],
   "source": [
    "#Loop Through a Dictionary\n",
    "for x in thisdict:\n",
    "    print(x)   # print the key\n",
    "    print(thisdict[x]) # print the value"
   ]
  },
  {
   "cell_type": "markdown",
   "id": "6c34fcec",
   "metadata": {},
   "source": [
    "### Tuple"
   ]
  },
  {
   "cell_type": "code",
   "execution_count": null,
   "id": "b71b19d7",
   "metadata": {},
   "outputs": [],
   "source": [
    "thistuple = (\"apple\", \"banana\", \"cherry\")\n",
    "print(thistuple)"
   ]
  },
  {
   "cell_type": "code",
   "execution_count": null,
   "id": "ad9cd211",
   "metadata": {},
   "outputs": [],
   "source": [
    "thattuple =tuple((\"apple\", \"banana\", \"cherry\"))\n",
    "print(thattuple)"
   ]
  },
  {
   "cell_type": "code",
   "execution_count": null,
   "id": "e0cc5957",
   "metadata": {},
   "outputs": [],
   "source": [
    "#Convert the tuple into a list to be able to change it:\n",
    "x = (\"apple\", \"banana\", \"cherry\")\n",
    "y = list(x)\n",
    "print(y)\n",
    "type(y)"
   ]
  },
  {
   "cell_type": "code",
   "execution_count": null,
   "id": "60c36c1a",
   "metadata": {},
   "outputs": [],
   "source": [
    "y[1] = \"kiwi\"\n",
    "print(y)"
   ]
  },
  {
   "cell_type": "code",
   "execution_count": null,
   "id": "b5c8d263",
   "metadata": {},
   "outputs": [],
   "source": [
    "x = tuple(y)\n",
    "print(x)"
   ]
  },
  {
   "cell_type": "code",
   "execution_count": null,
   "id": "84a124c2",
   "metadata": {},
   "outputs": [],
   "source": [
    "#join two tuples\n",
    "tuple1 = (\"a\", \"b\" , \"c\")\n",
    "tuple2 = (1, 2, 3)\n",
    "tuple3 = tuple1 + tuple2\n",
    "print(tuple3)"
   ]
  },
  {
   "cell_type": "code",
   "execution_count": null,
   "id": "a8f1cd79",
   "metadata": {},
   "outputs": [],
   "source": [
    "#elementwise computation\n",
    "import numpy as np\n",
    "my_list = np.array([1, 2, 3, 4, 5])\n",
    "my_list * 5"
   ]
  },
  {
   "cell_type": "markdown",
   "id": "3d25f7d1",
   "metadata": {},
   "source": [
    "### Set"
   ]
  },
  {
   "cell_type": "code",
   "execution_count": null,
   "id": "111c46c6",
   "metadata": {},
   "outputs": [],
   "source": [
    "a1 = {\"monkey\", \"python\", \"whale\"}\n",
    "a2 = {\"monkey\", \"frong\", \"lizard\"}\n",
    "print(\"whale\" in a1)\n",
    "print(\"whale\" in a2)"
   ]
  },
  {
   "cell_type": "code",
   "execution_count": null,
   "id": "de84a396",
   "metadata": {},
   "outputs": [],
   "source": [
    "#Access item \n",
    "for x in a1:\n",
    "    print(x)"
   ]
  },
  {
   "cell_type": "code",
   "execution_count": null,
   "id": "637d0595",
   "metadata": {},
   "outputs": [],
   "source": [
    "#add new item\n",
    "a1.add('bat')\n",
    "print(a1)"
   ]
  },
  {
   "cell_type": "code",
   "execution_count": null,
   "id": "0f7673cb",
   "metadata": {},
   "outputs": [],
   "source": [
    "#length\n",
    "len(a1)"
   ]
  },
  {
   "cell_type": "code",
   "execution_count": null,
   "id": "377d998f",
   "metadata": {},
   "outputs": [],
   "source": [
    "#remove item\n",
    "a1.remove('monkey')\n",
    "print(a1)\n",
    "a1.discard('whale')\n",
    "print(a1)"
   ]
  },
  {
   "cell_type": "code",
   "execution_count": null,
   "id": "13c94457",
   "metadata": {},
   "outputs": [],
   "source": [
    "#merge two set\n",
    "a2.update(a1)\n",
    "print(a2)"
   ]
  },
  {
   "cell_type": "code",
   "execution_count": null,
   "id": "7a497e20",
   "metadata": {},
   "outputs": [],
   "source": [
    "a2.union(a1)\n",
    "print(a2)"
   ]
  },
  {
   "cell_type": "code",
   "execution_count": null,
   "id": "e18e4e42",
   "metadata": {},
   "outputs": [],
   "source": [
    "a1.intersection(a2)"
   ]
  },
  {
   "cell_type": "code",
   "execution_count": null,
   "id": "10560deb",
   "metadata": {},
   "outputs": [],
   "source": [
    "a2.difference(a1)"
   ]
  },
  {
   "cell_type": "markdown",
   "id": "cc50e5df",
   "metadata": {},
   "source": [
    "## If command"
   ]
  },
  {
   "cell_type": "code",
   "execution_count": null,
   "id": "7c395165",
   "metadata": {},
   "outputs": [],
   "source": [
    "a = 33\n",
    "b = 200\n",
    "if b > a:\n",
    "    print(\"b is greater than a\")"
   ]
  },
  {
   "cell_type": "code",
   "execution_count": null,
   "id": "9455851c",
   "metadata": {},
   "outputs": [],
   "source": [
    "# multiple statements\n",
    "a = 200\n",
    "b = 33\n",
    "if b > a:\n",
    "    print(\"b is greater than a\")\n",
    "elif a == b:\n",
    "    print(\"a and b are equal\")\n",
    "else:\n",
    "    print(\"a is greater than b\")"
   ]
  },
  {
   "cell_type": "markdown",
   "id": "c23c5628",
   "metadata": {},
   "source": [
    "## While loop"
   ]
  },
  {
   "cell_type": "code",
   "execution_count": null,
   "id": "9287f9b4",
   "metadata": {},
   "outputs": [],
   "source": [
    "i = 1\n",
    "while i < 6:\n",
    "    print(i)\n",
    "    i += 1"
   ]
  },
  {
   "cell_type": "code",
   "execution_count": null,
   "id": "9a2b7c1b",
   "metadata": {},
   "outputs": [],
   "source": [
    "# break the loop\n",
    "i = 1\n",
    "while i < 6:\n",
    "    print(i)\n",
    "    if i == 3:\n",
    "        break\n",
    "    i += 1"
   ]
  },
  {
   "cell_type": "code",
   "execution_count": null,
   "id": "8f653e91",
   "metadata": {},
   "outputs": [],
   "source": [
    "## For loop"
   ]
  },
  {
   "cell_type": "code",
   "execution_count": null,
   "id": "cbda08aa",
   "metadata": {},
   "outputs": [],
   "source": [
    "#loop\n",
    "for x in range(6):\n",
    "    print(x)\n",
    "else:\n",
    "    print(\"Finally finished!\")"
   ]
  },
  {
   "cell_type": "code",
   "execution_count": null,
   "id": "243c0e25",
   "metadata": {},
   "outputs": [],
   "source": [
    "#nested loop\n",
    "adj = [\"red\", \"big\", \"tasty\"]\n",
    "fruits = [\"apple\", \"banana\", \"cherry\"]\n",
    "for x in adj:\n",
    "    for y in fruits:\n",
    "        print(x, y)"
   ]
  },
  {
   "cell_type": "markdown",
   "id": "fbf98386",
   "metadata": {},
   "source": [
    "## Function"
   ]
  },
  {
   "cell_type": "code",
   "execution_count": null,
   "id": "3d876c31",
   "metadata": {},
   "outputs": [],
   "source": [
    "#creat a function\n",
    "def love(name, strong = False):\n",
    "    if strong:\n",
    "        print(\"I love \" + name + \"!!!\")\n",
    "    else:\n",
    "        print(\"I like \" + name + \".\")"
   ]
  },
  {
   "cell_type": "code",
   "execution_count": null,
   "id": "3d7edab1",
   "metadata": {},
   "outputs": [],
   "source": [
    "love('dog')"
   ]
  },
  {
   "cell_type": "code",
   "execution_count": null,
   "id": "4d4ec8cf",
   "metadata": {},
   "outputs": [],
   "source": [
    "love('cat', strong=True)"
   ]
  },
  {
   "cell_type": "markdown",
   "id": "d8ede01c",
   "metadata": {},
   "source": [
    "## Example 1: Sum of Integers.\n",
    "Compute $\\sum_{k=1}^{100}k$"
   ]
  },
  {
   "cell_type": "code",
   "execution_count": null,
   "id": "57e801a4",
   "metadata": {},
   "outputs": [],
   "source": [
    "#1 define a recursion function\n",
    "A = 0\n",
    "for k in range(1,101):\n",
    "    A+=k\n",
    "print(A)"
   ]
  },
  {
   "cell_type": "code",
   "execution_count": null,
   "id": "e56be6d3",
   "metadata": {},
   "outputs": [],
   "source": [
    "#2 sum the list\n",
    "\n",
    "a= list(range(1,101))  #[1,2,...,100]\n",
    "sum(a)"
   ]
  },
  {
   "cell_type": "code",
   "execution_count": null,
   "id": "2b1697c8",
   "metadata": {},
   "outputs": [],
   "source": [
    "#3   sum the range\n",
    "sum(range(1,101))"
   ]
  },
  {
   "cell_type": "code",
   "execution_count": null,
   "id": "2c705f5b",
   "metadata": {},
   "outputs": [],
   "source": [
    "#4\n",
    "100*(100+1)/2"
   ]
  },
  {
   "cell_type": "markdown",
   "id": "f6440fd3",
   "metadata": {},
   "source": [
    "## Example 2: Fibonacci sequence.\n",
    "It is defined by recursion.\n",
    "$x_1=1, x_2=1, x_{k}=x_{k-1}+x_{k-2}$, for any $k>2$."
   ]
  },
  {
   "cell_type": "code",
   "execution_count": null,
   "id": "9fb6398a",
   "metadata": {},
   "outputs": [],
   "source": [
    "#Ficbonacci\n",
    "def Fibonacci(a):\n",
    "    if(a <= 2):\n",
    "        return(1)\n",
    "    else:\n",
    "        return(Fibonacci(a - 1) + Fibonacci(a - 2))"
   ]
  },
  {
   "cell_type": "code",
   "execution_count": null,
   "id": "ae7e3a59",
   "metadata": {},
   "outputs": [],
   "source": [
    "Fibonacci(2)"
   ]
  },
  {
   "cell_type": "code",
   "execution_count": null,
   "id": "d782fefe",
   "metadata": {},
   "outputs": [],
   "source": [
    "Fibonacci(15)"
   ]
  },
  {
   "cell_type": "code",
   "execution_count": null,
   "id": "fd951c6b",
   "metadata": {},
   "outputs": [],
   "source": []
  }
 ],
 "metadata": {
  "kernelspec": {
   "display_name": "Python 3 (ipykernel)",
   "language": "python",
   "name": "python3"
  },
  "language_info": {
   "codemirror_mode": {
    "name": "ipython",
    "version": 3
   },
   "file_extension": ".py",
   "mimetype": "text/x-python",
   "name": "python",
   "nbconvert_exporter": "python",
   "pygments_lexer": "ipython3",
   "version": "3.11.5"
  }
 },
 "nbformat": 4,
 "nbformat_minor": 5
}
